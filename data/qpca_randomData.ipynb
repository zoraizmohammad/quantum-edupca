{
  "nbformat": 4,
  "nbformat_minor": 0,
  "metadata": {
    "colab": {
      "provenance": [],
      "authorship_tag": "ABX9TyPs6/yBEXGG0WLqRHTndtOl",
      "include_colab_link": true
    },
    "kernelspec": {
      "name": "python3",
      "display_name": "Python 3"
    },
    "language_info": {
      "name": "python"
    }
  },
  "cells": [
    {
      "cell_type": "markdown",
      "metadata": {
        "id": "view-in-github",
        "colab_type": "text"
      },
      "source": [
        "<a href=\"https://colab.research.google.com/github/zoraizmohammad/quantum-edupca/blob/main/data/qpca_randomData.ipynb\" target=\"_parent\"><img src=\"https://colab.research.google.com/assets/colab-badge.svg\" alt=\"Open In Colab\"/></a>"
      ]
    },
    {
      "cell_type": "markdown",
      "source": [
        "# **Generating Random Student Data to Test PCA Model**"
      ],
      "metadata": {
        "id": "AC7CmQCZ1chv"
      }
    },
    {
      "cell_type": "markdown",
      "source": [
        "## Data Features\n",
        "* **Test Scores** *(0-100)*: Performance metrics for students.\n",
        "*  **Engagement Level** *(0-1)*: Average engagement level in online/offline classes.\n",
        "*  **Learning Style** *(One-Hot Encoded)*: Visual, Auditory, Kinesthetic\n",
        "*  **Motivational Scores** *(0-100)*: Based on assessments or teacher observations.\n",
        "*  **Homework Completion Rate** *(0-1)*: Proportion of homework completed.\n",
        "*  **Participation Rate** *(0-1)*: Fraction of classes where the student actively participated.\n",
        "\n"
      ],
      "metadata": {
        "id": "tCLqXrPb1pHW"
      }
    },
    {
      "cell_type": "code",
      "execution_count": 1,
      "metadata": {
        "id": "bOlfVZ1s1SSH"
      },
      "outputs": [],
      "source": [
        "import numpy as np\n",
        "import pandas as pd"
      ]
    },
    {
      "cell_type": "markdown",
      "source": [
        "Parameters"
      ],
      "metadata": {
        "id": "ZvXs7qPQ7uTy"
      }
    },
    {
      "cell_type": "code",
      "source": [
        "num_students = 100\n",
        "# random data\n",
        "np.random.seed(2024)"
      ],
      "metadata": {
        "id": "PiYFiJ7C7j4F"
      },
      "execution_count": 2,
      "outputs": []
    },
    {
      "cell_type": "code",
      "source": [
        "test_scores = np.random.uniform(50, 100, num_students)  # test score average\n",
        "engagement_level = np.random.uniform(0.4, 1.0, num_students)  # engagement level average\n",
        "learning_styles = np.random.choice(['Visual', 'Auditory', 'Read/Write' 'Kinesthetic'], num_students)  # learning styles (VARK)\n",
        "motivation_scores = np.random.uniform(40, 100, num_students)  # motivation scores\n",
        "homework_completion = np.random.uniform(0.5, 1.0, num_students)  # homework completion rate\n",
        "participation_rate = np.random.uniform(0.3, 1.0, num_students)  # participation rate"
      ],
      "metadata": {
        "id": "Gt5XPg5L7zyO"
      },
      "execution_count": 4,
      "outputs": []
    }
  ]
}