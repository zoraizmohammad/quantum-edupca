{
  "nbformat": 4,
  "nbformat_minor": 0,
  "metadata": {
    "colab": {
      "provenance": [],
      "authorship_tag": "ABX9TyO76HvAj+dFi6JK9OHmxlRh",
      "include_colab_link": true
    },
    "kernelspec": {
      "name": "python3",
      "display_name": "Python 3"
    },
    "language_info": {
      "name": "python"
    }
  },
  "cells": [
    {
      "cell_type": "markdown",
      "metadata": {
        "id": "view-in-github",
        "colab_type": "text"
      },
      "source": [
        "<a href=\"https://colab.research.google.com/github/zoraizmohammad/quantum-edupca/blob/main/data/qpca_randomData.ipynb\" target=\"_parent\"><img src=\"https://colab.research.google.com/assets/colab-badge.svg\" alt=\"Open In Colab\"/></a>"
      ]
    },
    {
      "cell_type": "markdown",
      "source": [
        "# **Generating Random Student Data to Test PCA Model**"
      ],
      "metadata": {
        "id": "AC7CmQCZ1chv"
      }
    },
    {
      "cell_type": "markdown",
      "source": [
        "## Data Features\n",
        "* **Test Scores** *(0-100)*: Performance metrics for students.\n",
        "*  **Engagement Level** *(0-1)*: Average engagement level in online/offline classes.\n",
        "*  **Learning Style** *(One-Hot Encoded)*: Visual, Auditory, Kinesthetic\n",
        "*  **Motivational Scores** *(0-100)*: Based on assessments or teacher observations.\n",
        "*  **Homework Completion Rate** *(0-1)*: Proportion of homework completed.\n",
        "*  **Participation Rate** *(0-1)*: Fraction of classes where the student actively participated.\n",
        "\n"
      ],
      "metadata": {
        "id": "tCLqXrPb1pHW"
      }
    },
    {
      "cell_type": "code",
      "execution_count": 1,
      "metadata": {
        "id": "bOlfVZ1s1SSH"
      },
      "outputs": [],
      "source": [
        "import numpy as np\n",
        "import pandas as pd"
      ]
    },
    {
      "cell_type": "markdown",
      "source": [
        "##Parameters"
      ],
      "metadata": {
        "id": "ZvXs7qPQ7uTy"
      }
    },
    {
      "cell_type": "code",
      "source": [
        "num_students = 100\n",
        "# random data\n",
        "np.random.seed(2024)"
      ],
      "metadata": {
        "id": "PiYFiJ7C7j4F"
      },
      "execution_count": 2,
      "outputs": []
    },
    {
      "cell_type": "code",
      "source": [
        "test_scores = np.random.uniform(50, 100, num_students)  # test score average\n",
        "engagement_level = np.random.uniform(0.4, 1.0, num_students)  # engagement level average\n",
        "learning_styles = np.random.choice(['Visual', 'Auditory', 'Read/Write' 'Kinesthetic'], num_students)  # learning styles (VARK)\n",
        "motivation_scores = np.random.uniform(40, 100, num_students)  # motivation scores\n",
        "homework_completion = np.random.uniform(0.5, 1.0, num_students)  # homework completion rate\n",
        "participation_rate = np.random.uniform(0.3, 1.0, num_students)  # participation rate"
      ],
      "metadata": {
        "id": "Gt5XPg5L7zyO"
      },
      "execution_count": 4,
      "outputs": []
    },
    {
      "cell_type": "markdown",
      "source": [
        "### One-Hot Encoding"
      ],
      "metadata": {
        "id": "ENYCTRCY_V8G"
      }
    },
    {
      "cell_type": "code",
      "source": [
        "# One-hot encode learning styles\n",
        "learning_style_onehot = pd.get_dummies(learning_styles, prefix='Style')"
      ],
      "metadata": {
        "id": "ZkUPWWLY_RGZ"
      },
      "execution_count": 6,
      "outputs": []
    },
    {
      "cell_type": "markdown",
      "source": [
        "## Dataset & Dataframe"
      ],
      "metadata": {
        "id": "rKh-EuiSFpQj"
      }
    },
    {
      "cell_type": "code",
      "source": [
        "data = pd.DataFrame({\n",
        "    'Test Scores': test_scores,\n",
        "    'Engagement Level': engagement_level,\n",
        "    'Motivation Scores': motivation_scores,\n",
        "    'Homework Completion': homework_completion,\n",
        "    'Participation Rate': participation_rate\n",
        "}).join(learning_style_onehot)"
      ],
      "metadata": {
        "id": "3ADSJUPQFq-y"
      },
      "execution_count": 7,
      "outputs": []
    },
    {
      "cell_type": "code",
      "source": [
        "print(data.head())"
      ],
      "metadata": {
        "colab": {
          "base_uri": "https://localhost:8080/"
        },
        "id": "GQ-pDx3UFuDR",
        "outputId": "13e89449-63ef-447e-de84-0df2962a13ed"
      },
      "execution_count": 8,
      "outputs": [
        {
          "output_type": "stream",
          "name": "stdout",
          "text": [
            "   Test Scores  Engagement Level  Motivation Scores  Homework Completion  \\\n",
            "0    83.927675          0.972445          46.748821             0.649225   \n",
            "1    99.095586          0.707495          77.143603             0.902828   \n",
            "2    67.214013          0.635114          80.072502             0.702036   \n",
            "3    88.820791          0.550831          83.670490             0.708826   \n",
            "4    95.939800          0.719985          88.423909             0.534506   \n",
            "\n",
            "   Participation Rate  Style_Auditory  Style_Read/WriteKinesthetic  \\\n",
            "0            0.966496            True                        False   \n",
            "1            0.446781            True                        False   \n",
            "2            0.306028           False                        False   \n",
            "3            0.907230           False                         True   \n",
            "4            0.932069           False                        False   \n",
            "\n",
            "   Style_Visual  \n",
            "0         False  \n",
            "1         False  \n",
            "2          True  \n",
            "3         False  \n",
            "4          True  \n"
          ]
        }
      ]
    },
    {
      "cell_type": "markdown",
      "source": [
        "### Save Data"
      ],
      "metadata": {
        "id": "ehNQPYlwIMRk"
      }
    },
    {
      "cell_type": "code",
      "source": [
        "data.to_csv(\"synthetic_educational_data.csv\", index=False)"
      ],
      "metadata": {
        "id": "7O--c7dqIO8t"
      },
      "execution_count": 9,
      "outputs": []
    }
  ]
}