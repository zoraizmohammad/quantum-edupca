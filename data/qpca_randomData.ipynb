{
  "nbformat": 4,
  "nbformat_minor": 0,
  "metadata": {
    "colab": {
      "provenance": [],
      "authorship_tag": "ABX9TyO/0pDh3Bs1eJ+mvMzjSq5S",
      "include_colab_link": true
    },
    "kernelspec": {
      "name": "python3",
      "display_name": "Python 3"
    },
    "language_info": {
      "name": "python"
    }
  },
  "cells": [
    {
      "cell_type": "markdown",
      "metadata": {
        "id": "view-in-github",
        "colab_type": "text"
      },
      "source": [
        "<a href=\"https://colab.research.google.com/github/zoraizmohammad/quantum-edupca/blob/main/data/qpca_randomData.ipynb\" target=\"_parent\"><img src=\"https://colab.research.google.com/assets/colab-badge.svg\" alt=\"Open In Colab\"/></a>"
      ]
    },
    {
      "cell_type": "markdown",
      "source": [
        "# **Generating Random Student Data to Test PCA Model**"
      ],
      "metadata": {
        "id": "AC7CmQCZ1chv"
      }
    },
    {
      "cell_type": "markdown",
      "source": [
        "## Data Features\n",
        "* **Test Scores** *(0-100)*: Performance metrics for students.\n",
        "*  **Engagement Level** *(0-1)*: Average engagement level in online/offline classes.\n",
        "*  **Learning Style** *(One-Hot Encoded)*: Visual, Auditory, Kinesthetic\n",
        "*  **Motivational Scores** *(0-100)*: Based on assessments or teacher observations.\n",
        "*  **Homework Completion Rate** *(0-1)*: Proportion of homework completed.\n",
        "*  **Participation Rate** *(0-1)*: Fraction of classes where the student actively participated.\n",
        "\n"
      ],
      "metadata": {
        "id": "tCLqXrPb1pHW"
      }
    },
    {
      "cell_type": "code",
      "execution_count": 1,
      "metadata": {
        "id": "bOlfVZ1s1SSH"
      },
      "outputs": [],
      "source": [
        "import numpy as np\n",
        "import pandas as pd"
      ]
    }
  ]
}