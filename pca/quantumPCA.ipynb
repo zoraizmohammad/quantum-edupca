{
  "nbformat": 4,
  "nbformat_minor": 0,
  "metadata": {
    "colab": {
      "provenance": [],
      "mount_file_id": "1IXpMYMBHTEQxL-yo8JgJM5eCzoEQURd5",
      "authorship_tag": "ABX9TyNmss5gJd9mMF6D7g9nN3gz",
      "include_colab_link": true
    },
    "kernelspec": {
      "name": "python3",
      "display_name": "Python 3"
    },
    "language_info": {
      "name": "python"
    }
  },
  "cells": [
    {
      "cell_type": "markdown",
      "metadata": {
        "id": "view-in-github",
        "colab_type": "text"
      },
      "source": [
        "<a href=\"https://colab.research.google.com/github/zoraizmohammad/quantum-edupca/blob/main/pca/quantumPCA.ipynb\" target=\"_parent\"><img src=\"https://colab.research.google.com/assets/colab-badge.svg\" alt=\"Open In Colab\"/></a>"
      ]
    },
    {
      "cell_type": "markdown",
      "source": [
        "## **Quantum PCA**"
      ],
      "metadata": {
        "id": "M2zAKiH_Swm5"
      }
    },
    {
      "cell_type": "markdown",
      "source": [
        "**Necessary Installs:** qiskit, qiskit_aer"
      ],
      "metadata": {
        "id": "KWf4SzPrRWIo"
      }
    },
    {
      "cell_type": "code",
      "source": [
        "!pip install qiskit\n",
        "!pip install qiskit-aer\n",
        "!pip install pylatexenc"
      ],
      "metadata": {
        "colab": {
          "base_uri": "https://localhost:8080/"
        },
        "id": "7sTkyzKNRP-c",
        "outputId": "70368021-df13-4d04-dced-daa5ed9221f8"
      },
      "execution_count": 22,
      "outputs": [
        {
          "output_type": "stream",
          "name": "stdout",
          "text": [
            "Requirement already satisfied: qiskit in /usr/local/lib/python3.10/dist-packages (1.3.1)\n",
            "Requirement already satisfied: rustworkx>=0.15.0 in /usr/local/lib/python3.10/dist-packages (from qiskit) (0.15.1)\n",
            "Requirement already satisfied: numpy<3,>=1.17 in /usr/local/lib/python3.10/dist-packages (from qiskit) (1.26.4)\n",
            "Requirement already satisfied: scipy>=1.5 in /usr/local/lib/python3.10/dist-packages (from qiskit) (1.13.1)\n",
            "Requirement already satisfied: sympy>=1.3 in /usr/local/lib/python3.10/dist-packages (from qiskit) (1.13.1)\n",
            "Requirement already satisfied: dill>=0.3 in /usr/local/lib/python3.10/dist-packages (from qiskit) (0.3.9)\n",
            "Requirement already satisfied: python-dateutil>=2.8.0 in /usr/local/lib/python3.10/dist-packages (from qiskit) (2.8.2)\n",
            "Requirement already satisfied: stevedore>=3.0.0 in /usr/local/lib/python3.10/dist-packages (from qiskit) (5.4.0)\n",
            "Requirement already satisfied: typing-extensions in /usr/local/lib/python3.10/dist-packages (from qiskit) (4.12.2)\n",
            "Requirement already satisfied: symengine<0.14,>=0.11 in /usr/local/lib/python3.10/dist-packages (from qiskit) (0.13.0)\n",
            "Requirement already satisfied: six>=1.5 in /usr/local/lib/python3.10/dist-packages (from python-dateutil>=2.8.0->qiskit) (1.17.0)\n",
            "Requirement already satisfied: pbr>=2.0.0 in /usr/local/lib/python3.10/dist-packages (from stevedore>=3.0.0->qiskit) (6.1.0)\n",
            "Requirement already satisfied: mpmath<1.4,>=1.1.0 in /usr/local/lib/python3.10/dist-packages (from sympy>=1.3->qiskit) (1.3.0)\n",
            "Requirement already satisfied: qiskit-aer in /usr/local/lib/python3.10/dist-packages (0.15.1)\n",
            "Requirement already satisfied: qiskit>=1.1.0 in /usr/local/lib/python3.10/dist-packages (from qiskit-aer) (1.3.1)\n",
            "Requirement already satisfied: numpy>=1.16.3 in /usr/local/lib/python3.10/dist-packages (from qiskit-aer) (1.26.4)\n",
            "Requirement already satisfied: scipy>=1.0 in /usr/local/lib/python3.10/dist-packages (from qiskit-aer) (1.13.1)\n",
            "Requirement already satisfied: psutil>=5 in /usr/local/lib/python3.10/dist-packages (from qiskit-aer) (5.9.5)\n",
            "Requirement already satisfied: rustworkx>=0.15.0 in /usr/local/lib/python3.10/dist-packages (from qiskit>=1.1.0->qiskit-aer) (0.15.1)\n",
            "Requirement already satisfied: sympy>=1.3 in /usr/local/lib/python3.10/dist-packages (from qiskit>=1.1.0->qiskit-aer) (1.13.1)\n",
            "Requirement already satisfied: dill>=0.3 in /usr/local/lib/python3.10/dist-packages (from qiskit>=1.1.0->qiskit-aer) (0.3.9)\n",
            "Requirement already satisfied: python-dateutil>=2.8.0 in /usr/local/lib/python3.10/dist-packages (from qiskit>=1.1.0->qiskit-aer) (2.8.2)\n",
            "Requirement already satisfied: stevedore>=3.0.0 in /usr/local/lib/python3.10/dist-packages (from qiskit>=1.1.0->qiskit-aer) (5.4.0)\n",
            "Requirement already satisfied: typing-extensions in /usr/local/lib/python3.10/dist-packages (from qiskit>=1.1.0->qiskit-aer) (4.12.2)\n",
            "Requirement already satisfied: symengine<0.14,>=0.11 in /usr/local/lib/python3.10/dist-packages (from qiskit>=1.1.0->qiskit-aer) (0.13.0)\n",
            "Requirement already satisfied: six>=1.5 in /usr/local/lib/python3.10/dist-packages (from python-dateutil>=2.8.0->qiskit>=1.1.0->qiskit-aer) (1.17.0)\n",
            "Requirement already satisfied: pbr>=2.0.0 in /usr/local/lib/python3.10/dist-packages (from stevedore>=3.0.0->qiskit>=1.1.0->qiskit-aer) (6.1.0)\n",
            "Requirement already satisfied: mpmath<1.4,>=1.1.0 in /usr/local/lib/python3.10/dist-packages (from sympy>=1.3->qiskit>=1.1.0->qiskit-aer) (1.3.0)\n",
            "Requirement already satisfied: pylatexenc in /usr/local/lib/python3.10/dist-packages (2.10)\n"
          ]
        }
      ]
    },
    {
      "cell_type": "code",
      "execution_count": 24,
      "metadata": {
        "id": "q7xnv1y2REmH"
      },
      "outputs": [],
      "source": [
        "import numpy as np\n",
        "import pandas as pd\n",
        "from qiskit import QuantumCircuit, transpile, transpile\n",
        "from qiskit_aer import Aer\n",
        "from qiskit.circuit.library import QFT\n",
        "from qiskit.quantum_info import Statevector\n",
        "from qiskit.visualization import plot_histogram\n",
        "import matplotlib.pyplot as plt"
      ]
    },
    {
      "cell_type": "code",
      "source": [
        "from google.colab import drive\n",
        "drive.mount('/content/drive')"
      ],
      "metadata": {
        "colab": {
          "base_uri": "https://localhost:8080/"
        },
        "id": "glwRds47ZBL0",
        "outputId": "7267c5f3-bc45-46e0-df16-fe7edd5ddbee"
      },
      "execution_count": 4,
      "outputs": [
        {
          "output_type": "stream",
          "name": "stdout",
          "text": [
            "Drive already mounted at /content/drive; to attempt to forcibly remount, call drive.mount(\"/content/drive\", force_remount=True).\n"
          ]
        }
      ]
    },
    {
      "cell_type": "markdown",
      "source": [
        "Load Data"
      ],
      "metadata": {
        "id": "z25J4_0EZYHH"
      }
    },
    {
      "cell_type": "code",
      "source": [
        "# Load the synthetic educational dataset\n",
        "data = pd.read_csv(\"/content/drive/MyDrive/projects/synthetic_educational_data.csv\")"
      ],
      "metadata": {
        "id": "Y5ULx7LHZWav"
      },
      "execution_count": 6,
      "outputs": []
    },
    {
      "cell_type": "markdown",
      "source": [
        "Feature Selection"
      ],
      "metadata": {
        "id": "aKs5m8hFaiY2"
      }
    },
    {
      "cell_type": "code",
      "source": [
        "# Select numerical features for PCA\n",
        "data_numeric = data.drop(columns=[col for col in data.columns if col.startswith('Style')])\n",
        "data_matrix = data_numeric.to_numpy()"
      ],
      "metadata": {
        "id": "esNMBEgNagDs"
      },
      "execution_count": 7,
      "outputs": []
    },
    {
      "cell_type": "markdown",
      "source": [
        "Calculate the Covariance Matrix"
      ],
      "metadata": {
        "id": "C2SZvtNYbEbj"
      }
    },
    {
      "cell_type": "code",
      "source": [
        "cov_matrix = np.cov(data_matrix.T)\n",
        "print(\"Covariance Matrix:\")\n",
        "print(cov_matrix)"
      ],
      "metadata": {
        "colab": {
          "base_uri": "https://localhost:8080/"
        },
        "id": "swkXUl49bP8p",
        "outputId": "2649443f-6767-4ffe-e466-d7f1f6f9491c"
      },
      "execution_count": 8,
      "outputs": [
        {
          "output_type": "stream",
          "name": "stdout",
          "text": [
            "Covariance Matrix:\n",
            "[[ 2.24967241e+02 -2.64747275e-01 -1.09748862e+01  6.58386511e-02\n",
            "   2.56883396e-01]\n",
            " [-2.64747275e-01  3.11979495e-02 -1.22343728e-01  1.56826151e-03\n",
            "  -1.60150731e-03]\n",
            " [-1.09748862e+01 -1.22343728e-01  2.71038492e+02 -2.68028646e-01\n",
            "   7.69435932e-02]\n",
            " [ 6.58386511e-02  1.56826151e-03 -2.68028646e-01  2.04584463e-02\n",
            "  -3.32094433e-03]\n",
            " [ 2.56883396e-01 -1.60150731e-03  7.69435932e-02 -3.32094433e-03\n",
            "   4.44871211e-02]]\n"
          ]
        }
      ]
    },
    {
      "cell_type": "markdown",
      "source": [
        "Normalize Covariance Matrix"
      ],
      "metadata": {
        "id": "gCxcreKJbUmw"
      }
    },
    {
      "cell_type": "code",
      "source": [
        "norm_factor = np.linalg.norm(cov_matrix)\n",
        "normalized_matrix = cov_matrix / norm_factor\n",
        "print(\"Normalized Covariance Matrix:\")\n",
        "print(normalized_matrix)"
      ],
      "metadata": {
        "colab": {
          "base_uri": "https://localhost:8080/"
        },
        "id": "ODZzAfyfbZAJ",
        "outputId": "5cde8011-d32a-4d91-8241-87667ddf0bc2"
      },
      "execution_count": 9,
      "outputs": [
        {
          "output_type": "stream",
          "name": "stdout",
          "text": [
            "Normalized Covariance Matrix:\n",
            "[[ 6.38057994e-01 -7.50883170e-04 -3.11272602e-02  1.86733310e-04\n",
            "   7.28579428e-04]\n",
            " [-7.50883170e-04  8.84844430e-05 -3.46994492e-04  4.44794446e-06\n",
            "  -4.54223707e-06]\n",
            " [-3.11272602e-02 -3.46994492e-04  7.68726483e-01 -7.60189880e-04\n",
            "   2.18229438e-04]\n",
            " [ 1.86733310e-04  4.44794446e-06 -7.60189880e-04  5.80247824e-05\n",
            "  -9.41894945e-06]\n",
            " [ 7.28579428e-04 -4.54223707e-06  2.18229438e-04 -9.41894945e-06\n",
            "   1.26175540e-04]]\n"
          ]
        }
      ]
    },
    {
      "cell_type": "markdown",
      "source": [
        "Prepare Quantum States Function Definition"
      ],
      "metadata": {
        "id": "7Gs3ASytbb-R"
      }
    },
    {
      "cell_type": "code",
      "source": [
        "def prepare_quantum_state(matrix):\n",
        "    flattened_matrix = matrix.flatten()\n",
        "    norm = np.linalg.norm(flattened_matrix)\n",
        "    if norm == 0:\n",
        "        raise ValueError(\"Matrix cannot be normalized; norm is zero.\")\n",
        "\n",
        "    # Normalize the state vector\n",
        "    state_vector = flattened_matrix / norm\n",
        "\n",
        "    # Ensure the state vector length is a power of 2\n",
        "    target_length = 2 ** int(np.ceil(np.log2(len(state_vector))))\n",
        "    padded_state_vector = np.zeros(target_length)\n",
        "    padded_state_vector[:len(state_vector)] = state_vector\n",
        "\n",
        "    return Statevector(padded_state_vector)"
      ],
      "metadata": {
        "id": "J-g_7K-dbfJs"
      },
      "execution_count": 10,
      "outputs": []
    },
    {
      "cell_type": "code",
      "source": [
        "quantum_state = prepare_quantum_state(normalized_matrix)\n",
        "print(\"Quantum State Vector:\")\n",
        "print(quantum_state.data)"
      ],
      "metadata": {
        "colab": {
          "base_uri": "https://localhost:8080/"
        },
        "id": "X9X2U0SFevkx",
        "outputId": "b5d54453-723e-45b1-950f-7122f13a5f59"
      },
      "execution_count": 11,
      "outputs": [
        {
          "output_type": "stream",
          "name": "stdout",
          "text": [
            "Quantum State Vector:\n",
            "[ 6.38057994e-01+0.j -7.50883170e-04+0.j -3.11272602e-02+0.j\n",
            "  1.86733310e-04+0.j  7.28579428e-04+0.j -7.50883170e-04+0.j\n",
            "  8.84844430e-05+0.j -3.46994492e-04+0.j  4.44794446e-06+0.j\n",
            " -4.54223707e-06+0.j -3.11272602e-02+0.j -3.46994492e-04+0.j\n",
            "  7.68726483e-01+0.j -7.60189880e-04+0.j  2.18229438e-04+0.j\n",
            "  1.86733310e-04+0.j  4.44794446e-06+0.j -7.60189880e-04+0.j\n",
            "  5.80247824e-05+0.j -9.41894945e-06+0.j  7.28579428e-04+0.j\n",
            " -4.54223707e-06+0.j  2.18229438e-04+0.j -9.41894945e-06+0.j\n",
            "  1.26175540e-04+0.j  0.00000000e+00+0.j  0.00000000e+00+0.j\n",
            "  0.00000000e+00+0.j  0.00000000e+00+0.j  0.00000000e+00+0.j\n",
            "  0.00000000e+00+0.j  0.00000000e+00+0.j]\n"
          ]
        }
      ]
    },
    {
      "cell_type": "markdown",
      "source": [
        "Quantum PCA Circuit Setup"
      ],
      "metadata": {
        "id": "zTty7e2gew9g"
      }
    },
    {
      "cell_type": "code",
      "source": [
        "num_qubits = int(np.ceil(np.log2(len(quantum_state.data))))\n",
        "num_qubits"
      ],
      "metadata": {
        "colab": {
          "base_uri": "https://localhost:8080/"
        },
        "id": "OmtBwdE7e0HQ",
        "outputId": "0f7cb597-8da2-442c-b841-e613b2dfa7f2"
      },
      "execution_count": 12,
      "outputs": [
        {
          "output_type": "execute_result",
          "data": {
            "text/plain": [
              "5"
            ]
          },
          "metadata": {},
          "execution_count": 12
        }
      ]
    },
    {
      "cell_type": "markdown",
      "source": [
        "**Quantum Phase Estimation - Circuit Creation**\n",
        "*   Initialize Eignestate\n",
        "*   Apply Hadmard\n",
        "*   Apply controlled-unitary gate\n",
        "*   Applying Quantum Fourier Transform\n",
        "*   Eigenvalue Transformation\n",
        "\n"
      ],
      "metadata": {
        "id": "x7Bxd3B-e8Xm"
      }
    },
    {
      "cell_type": "code",
      "source": [
        "def create_qpca_circuit(num_qubits, state_vector):\n",
        "    qc = QuantumCircuit(num_qubits + 1, num_qubits)  # +1 qubit for the eigenstate\n",
        "\n",
        "    # Initialize the eigenstate on the first qubit\n",
        "    if len(state_vector) != 2 ** num_qubits:\n",
        "        raise ValueError(\"State vector length does not match number of qubits\")\n",
        "    qc.initialize(state_vector, list(range(1, num_qubits + 1)))\n",
        "\n",
        "    # Apply Hadamard to the control qubit\n",
        "    qc.h(0)\n",
        "\n",
        "    # Apply controlled-unitary gates (as placeholder)\n",
        "    for i in range(num_qubits):\n",
        "        qc.cp(2 * np.pi / (2 ** (i + 1)), 0, i + 1)\n",
        "\n",
        "    # Apply Quantum Fourier Transform (Inverse)\n",
        "    qft_dagger = QFT(num_qubits).inverse()\n",
        "    qc.compose(qft_dagger, qubits=list(range(num_qubits)), inplace=True)\n",
        "\n",
        "    # Measure the eigenvalues\n",
        "    qc.measure(range(num_qubits), range(num_qubits))\n",
        "\n",
        "    return qc"
      ],
      "metadata": {
        "id": "7i0DM2qpe6CS"
      },
      "execution_count": 13,
      "outputs": []
    },
    {
      "cell_type": "code",
      "source": [
        "qpca_circuit = create_qpca_circuit(num_qubits, quantum_state.data)"
      ],
      "metadata": {
        "id": "A_ZFydtLf_6I"
      },
      "execution_count": 14,
      "outputs": []
    },
    {
      "cell_type": "markdown",
      "source": [
        "Printing the Circuit"
      ],
      "metadata": {
        "id": "QG6kzma3QYTI"
      }
    },
    {
      "cell_type": "code",
      "source": [
        "print(\"Quantum PCA Circuit:\")\n",
        "print(qpca_circuit)\n",
        "qpca_circuit.draw(output='mpl')\n",
        "plt.show()"
      ],
      "metadata": {
        "colab": {
          "base_uri": "https://localhost:8080/"
        },
        "id": "mAcI1dmdgpWA",
        "outputId": "0f925e0a-1cfa-4b6a-fcdc-b2299939854d"
      },
      "execution_count": 15,
      "outputs": [
        {
          "output_type": "stream",
          "name": "stdout",
          "text": [
            "Quantum PCA Circuit:\n",
            "     »\n",
            "q_0: »\n",
            "     »\n",
            "q_1: »\n",
            "     »\n",
            "q_2: »\n",
            "     »\n",
            "q_3: »\n",
            "     »\n",
            "q_4: »\n",
            "     »\n",
            "q_5: »\n",
            "     »\n",
            "c: 5/»\n",
            "     »\n",
            "«                                                                                                                                                            ┌───┐                                                                                                                                                       »\n",
            "«q_0: ───────────────────────────────────────────────────────────────────────────────────────────────────────────────────────────────────────────────────────┤ H ├───────────────────────────────────────────────────────────────────────────────────────────────────────────────────────────────────────────────────────»\n",
            "«     ┌──────────────────────────────────────────────────────────────────────────────────────────────────────────────────────────────────────────────────────┴───┴──────────────────────────────────────────────────────────────────────────────────────────────────────────────────────────────────────────────────────┐»\n",
            "«q_1: ┤0                                                                                                                                                                                                                                                                                                                ├»\n",
            "«     │                                                                                                                                                                                                                                                                                                                 │»\n",
            "«q_2: ┤1                                                                                                                                                                                                                                                                                                                ├»\n",
            "«     │                                                                                                                                                                                                                                                                                                                 │»\n",
            "«q_3: ┤2 Initialize(0.63806,-0.00075088,-0.031127,0.00018673,0.00072858,-0.00075088,8.8484e-05,-0.00034699,4.4479e-06,-4.5422e-06,-0.031127,-0.00034699,0.76873,-0.00076019,0.00021823,0.00018673,4.4479e-06,-0.00076019,5.8025e-05,-9.4189e-06,0.00072858,-4.5422e-06,0.00021823,-9.4189e-06,0.00012618,0,0,0,0,0,0,0) ├»\n",
            "«     │                                                                                                                                                                                                                                                                                                                 │»\n",
            "«q_4: ┤3                                                                                                                                                                                                                                                                                                                ├»\n",
            "«     │                                                                                                                                                                                                                                                                                                                 │»\n",
            "«q_5: ┤4                                                                                                                                                                                                                                                                                                                ├»\n",
            "«     └─────────────────────────────────────────────────────────────────────────────────────────────────────────────────────────────────────────────────────────────────────────────────────────────────────────────────────────────────────────────────────────────────────────────────────────────────────────────────┘»\n",
            "«c: 5/═══════════════════════════════════════════════════════════════════════════════════════════════════════════════════════════════════════════════════════════════════════════════════════════════════════════════════════════════════════════════════════════════════════════════════════════════════════════════════»\n",
            "«                                                                                                                                                                                                                                                                                                                        »\n",
            "«                                                 ┌───────┐┌─┐            \n",
            "«q_0: ─■──────■────────■────────■────────■────────┤0      ├┤M├────────────\n",
            "«      │P(π)  │        │        │        │        │       │└╥┘┌─┐         \n",
            "«q_1: ─■──────┼────────┼────────┼────────┼────────┤1      ├─╫─┤M├─────────\n",
            "«             │P(π/2)  │        │        │        │       │ ║ └╥┘┌─┐      \n",
            "«q_2: ────────■────────┼────────┼────────┼────────┤2 IQFT ├─╫──╫─┤M├──────\n",
            "«                      │P(π/4)  │        │        │       │ ║  ║ └╥┘┌─┐   \n",
            "«q_3: ─────────────────■────────┼────────┼────────┤3      ├─╫──╫──╫─┤M├───\n",
            "«                               │P(π/8)  │        │       │ ║  ║  ║ └╥┘┌─┐\n",
            "«q_4: ──────────────────────────■────────┼────────┤4      ├─╫──╫──╫──╫─┤M├\n",
            "«                                        │P(π/16) └───────┘ ║  ║  ║  ║ └╥┘\n",
            "«q_5: ───────────────────────────────────■──────────────────╫──╫──╫──╫──╫─\n",
            "«                                                           ║  ║  ║  ║  ║ \n",
            "«c: 5/══════════════════════════════════════════════════════╩══╩══╩══╩══╩═\n",
            "«                                                           0  1  2  3  4 \n"
          ]
        }
      ]
    },
    {
      "cell_type": "markdown",
      "source": [
        "## Circuit Execution"
      ],
      "metadata": {
        "id": "h9lZz9EAQpI0"
      }
    },
    {
      "cell_type": "code",
      "source": [
        "backend = Aer.get_backend('qasm_simulator')\n",
        "compiled_circuit = transpile(qpca_circuit, backend)\n",
        "job = backend.run(compiled_circuit, shots=1024)\n",
        "result = job.result()\n",
        "counts = result.get_counts()\n",
        "counts"
      ],
      "metadata": {
        "colab": {
          "base_uri": "https://localhost:8080/"
        },
        "id": "OEhStsIyQ3Dq",
        "outputId": "6c150120-be64-4c96-b6c1-e3416c88af6a"
      },
      "execution_count": 45,
      "outputs": [
        {
          "output_type": "execute_result",
          "data": {
            "text/plain": [
              "{'10101': 3,\n",
              " '11101': 11,\n",
              " '00101': 18,\n",
              " '01001': 15,\n",
              " '11010': 11,\n",
              " '10001': 5,\n",
              " '10000': 8,\n",
              " '01000': 66,\n",
              " '01100': 50,\n",
              " '11110': 11,\n",
              " '11011': 46,\n",
              " '11111': 76,\n",
              " '11000': 28,\n",
              " '00100': 125,\n",
              " '00011': 84,\n",
              " '00111': 81,\n",
              " '01111': 18,\n",
              " '00110': 14,\n",
              " '00001': 23,\n",
              " '11100': 63,\n",
              " '10100': 2,\n",
              " '10111': 16,\n",
              " '10010': 9,\n",
              " '01011': 69,\n",
              " '00000': 91,\n",
              " '11001': 17,\n",
              " '01110': 18,\n",
              " '01010': 11,\n",
              " '10110': 7,\n",
              " '01101': 20,\n",
              " '10011': 1,\n",
              " '00010': 7}"
            ]
          },
          "metadata": {},
          "execution_count": 45
        }
      ]
    },
    {
      "cell_type": "markdown",
      "source": [
        "**Plot Results**"
      ],
      "metadata": {
        "id": "1fq5vBhQUr_k"
      }
    },
    {
      "cell_type": "code",
      "source": [
        "print(counts)\n"
      ],
      "metadata": {
        "colab": {
          "base_uri": "https://localhost:8080/"
        },
        "id": "mymSvA93Vq0Q",
        "outputId": "9b318cca-43e2-4c86-9c5c-e7beeb52f00c"
      },
      "execution_count": 50,
      "outputs": [
        {
          "output_type": "stream",
          "name": "stdout",
          "text": [
            "{'10101': 3, '11101': 11, '00101': 18, '01001': 15, '11010': 11, '10001': 5, '10000': 8, '01000': 66, '01100': 50, '11110': 11, '11011': 46, '11111': 76, '11000': 28, '00100': 125, '00011': 84, '00111': 81, '01111': 18, '00110': 14, '00001': 23, '11100': 63, '10100': 2, '10111': 16, '10010': 9, '01011': 69, '00000': 91, '11001': 17, '01110': 18, '01010': 11, '10110': 7, '01101': 20, '10011': 1, '00010': 7}\n"
          ]
        }
      ]
    },
    {
      "cell_type": "code",
      "source": [
        "sorted_counts = dict(sorted(counts.items(), key=lambda item: item[1], reverse=True))\n",
        "top_counts = {k: sorted_counts[k] for k in list(sorted_counts.keys())[:10]}  # Top 10 results\n",
        "\n",
        "plot_histogram(top_counts)\n"
      ],
      "metadata": {
        "colab": {
          "base_uri": "https://localhost:8080/",
          "height": 437
        },
        "id": "MdJtbql3V2Kv",
        "outputId": "48861f04-f0c1-43ae-ff60-640b938df085"
      },
      "execution_count": 62,
      "outputs": [
        {
          "output_type": "execute_result",
          "data": {
            "text/plain": [
              "<Figure size 640x480 with 1 Axes>"
            ],
            "image/png": "[encoded data removed]"
          },
          "metadata": {},
          "execution_count": 62
        }
      ]
    }
  ]
}