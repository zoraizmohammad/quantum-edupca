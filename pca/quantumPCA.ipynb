{
  "nbformat": 4,
  "nbformat_minor": 0,
  "metadata": {
    "colab": {
      "provenance": [],
      "mount_file_id": "1IXpMYMBHTEQxL-yo8JgJM5eCzoEQURd5",
      "authorship_tag": "ABX9TyP8IIFfb72Ty0D23KeFvh/c",
      "include_colab_link": true
    },
    "kernelspec": {
      "name": "python3",
      "display_name": "Python 3"
    },
    "language_info": {
      "name": "python"
    }
  },
  "cells": [
    {
      "cell_type": "markdown",
      "metadata": {
        "id": "view-in-github",
        "colab_type": "text"
      },
      "source": [
        "<a href=\"https://colab.research.google.com/github/zoraizmohammad/quantum-edupca/blob/main/pca/quantumPCA.ipynb\" target=\"_parent\"><img src=\"https://colab.research.google.com/assets/colab-badge.svg\" alt=\"Open In Colab\"/></a>"
      ]
    },
    {
      "cell_type": "markdown",
      "source": [
        "## **Quantum PCA**"
      ],
      "metadata": {
        "id": "M2zAKiH_Swm5"
      }
    },
    {
      "cell_type": "markdown",
      "source": [
        "**Necessary Installs:** qiskit, qiskit_aer"
      ],
      "metadata": {
        "id": "KWf4SzPrRWIo"
      }
    },
    {
      "cell_type": "code",
      "source": [
        "!pip install qiskit\n",
        "!pip install qiskit_aer\n",
        "!pip install pylatexenc"
      ],
      "metadata": {
        "colab": {
          "base_uri": "https://localhost:8080/"
        },
        "id": "7sTkyzKNRP-c",
        "outputId": "6a4dd02e-20ee-4f4a-ecdc-5be60fe5f318"
      },
      "execution_count": 2,
      "outputs": [
        {
          "output_type": "stream",
          "name": "stdout",
          "text": [
            "Collecting qiskit\n",
            "  Downloading qiskit-1.3.1-cp39-abi3-manylinux_2_17_x86_64.manylinux2014_x86_64.whl.metadata (12 kB)\n",
            "Collecting rustworkx>=0.15.0 (from qiskit)\n",
            "  Downloading rustworkx-0.15.1-cp38-abi3-manylinux_2_17_x86_64.manylinux2014_x86_64.whl.metadata (9.9 kB)\n",
            "Requirement already satisfied: numpy<3,>=1.17 in /usr/local/lib/python3.10/dist-packages (from qiskit) (1.26.4)\n",
            "Requirement already satisfied: scipy>=1.5 in /usr/local/lib/python3.10/dist-packages (from qiskit) (1.13.1)\n",
            "Requirement already satisfied: sympy>=1.3 in /usr/local/lib/python3.10/dist-packages (from qiskit) (1.13.1)\n",
            "Collecting dill>=0.3 (from qiskit)\n",
            "  Downloading dill-0.3.9-py3-none-any.whl.metadata (10 kB)\n",
            "Requirement already satisfied: python-dateutil>=2.8.0 in /usr/local/lib/python3.10/dist-packages (from qiskit) (2.8.2)\n",
            "Collecting stevedore>=3.0.0 (from qiskit)\n",
            "  Downloading stevedore-5.4.0-py3-none-any.whl.metadata (2.3 kB)\n",
            "Requirement already satisfied: typing-extensions in /usr/local/lib/python3.10/dist-packages (from qiskit) (4.12.2)\n",
            "Collecting symengine<0.14,>=0.11 (from qiskit)\n",
            "  Downloading symengine-0.13.0-cp310-cp310-manylinux_2_17_x86_64.manylinux2014_x86_64.whl.metadata (1.2 kB)\n",
            "Requirement already satisfied: six>=1.5 in /usr/local/lib/python3.10/dist-packages (from python-dateutil>=2.8.0->qiskit) (1.17.0)\n",
            "Collecting pbr>=2.0.0 (from stevedore>=3.0.0->qiskit)\n",
            "  Downloading pbr-6.1.0-py2.py3-none-any.whl.metadata (3.4 kB)\n",
            "Requirement already satisfied: mpmath<1.4,>=1.1.0 in /usr/local/lib/python3.10/dist-packages (from sympy>=1.3->qiskit) (1.3.0)\n",
            "Downloading qiskit-1.3.1-cp39-abi3-manylinux_2_17_x86_64.manylinux2014_x86_64.whl (6.7 MB)\n",
            "\u001b[2K   \u001b[90m━━━━━━━━━━━━━━━━━━━━━━━━━━━━━━━━━━━━━━━━\u001b[0m \u001b[32m6.7/6.7 MB\u001b[0m \u001b[31m44.2 MB/s\u001b[0m eta \u001b[36m0:00:00\u001b[0m\n",
            "\u001b[?25hDownloading dill-0.3.9-py3-none-any.whl (119 kB)\n",
            "\u001b[2K   \u001b[90m━━━━━━━━━━━━━━━━━━━━━━━━━━━━━━━━━━━━━━━━\u001b[0m \u001b[32m119.4/119.4 kB\u001b[0m \u001b[31m11.7 MB/s\u001b[0m eta \u001b[36m0:00:00\u001b[0m\n",
            "\u001b[?25hDownloading rustworkx-0.15.1-cp38-abi3-manylinux_2_17_x86_64.manylinux2014_x86_64.whl (2.0 MB)\n",
            "\u001b[2K   \u001b[90m━━━━━━━━━━━━━━━━━━━━━━━━━━━━━━━━━━━━━━━━\u001b[0m \u001b[32m2.0/2.0 MB\u001b[0m \u001b[31m52.1 MB/s\u001b[0m eta \u001b[36m0:00:00\u001b[0m\n",
            "\u001b[?25hDownloading stevedore-5.4.0-py3-none-any.whl (49 kB)\n",
            "\u001b[2K   \u001b[90m━━━━━━━━━━━━━━━━━━━━━━━━━━━━━━━━━━━━━━━━\u001b[0m \u001b[32m49.5/49.5 kB\u001b[0m \u001b[31m5.1 MB/s\u001b[0m eta \u001b[36m0:00:00\u001b[0m\n",
            "\u001b[?25hDownloading symengine-0.13.0-cp310-cp310-manylinux_2_17_x86_64.manylinux2014_x86_64.whl (49.7 MB)\n",
            "\u001b[2K   \u001b[90m━━━━━━━━━━━━━━━━━━━━━━━━━━━━━━━━━━━━━━━━\u001b[0m \u001b[32m49.7/49.7 MB\u001b[0m \u001b[31m10.8 MB/s\u001b[0m eta \u001b[36m0:00:00\u001b[0m\n",
            "\u001b[?25hDownloading pbr-6.1.0-py2.py3-none-any.whl (108 kB)\n",
            "\u001b[2K   \u001b[90m━━━━━━━━━━━━━━━━━━━━━━━━━━━━━━━━━━━━━━━━\u001b[0m \u001b[32m108.5/108.5 kB\u001b[0m \u001b[31m10.2 MB/s\u001b[0m eta \u001b[36m0:00:00\u001b[0m\n",
            "\u001b[?25hInstalling collected packages: symengine, rustworkx, pbr, dill, stevedore, qiskit\n",
            "Successfully installed dill-0.3.9 pbr-6.1.0 qiskit-1.3.1 rustworkx-0.15.1 stevedore-5.4.0 symengine-0.13.0\n",
            "Collecting qiskit_aer\n",
            "  Downloading qiskit_aer-0.15.1-cp310-cp310-manylinux_2_17_x86_64.manylinux2014_x86_64.whl.metadata (8.0 kB)\n",
            "Requirement already satisfied: qiskit>=1.1.0 in /usr/local/lib/python3.10/dist-packages (from qiskit_aer) (1.3.1)\n",
            "Requirement already satisfied: numpy>=1.16.3 in /usr/local/lib/python3.10/dist-packages (from qiskit_aer) (1.26.4)\n",
            "Requirement already satisfied: scipy>=1.0 in /usr/local/lib/python3.10/dist-packages (from qiskit_aer) (1.13.1)\n",
            "Requirement already satisfied: psutil>=5 in /usr/local/lib/python3.10/dist-packages (from qiskit_aer) (5.9.5)\n",
            "Requirement already satisfied: rustworkx>=0.15.0 in /usr/local/lib/python3.10/dist-packages (from qiskit>=1.1.0->qiskit_aer) (0.15.1)\n",
            "Requirement already satisfied: sympy>=1.3 in /usr/local/lib/python3.10/dist-packages (from qiskit>=1.1.0->qiskit_aer) (1.13.1)\n",
            "Requirement already satisfied: dill>=0.3 in /usr/local/lib/python3.10/dist-packages (from qiskit>=1.1.0->qiskit_aer) (0.3.9)\n",
            "Requirement already satisfied: python-dateutil>=2.8.0 in /usr/local/lib/python3.10/dist-packages (from qiskit>=1.1.0->qiskit_aer) (2.8.2)\n",
            "Requirement already satisfied: stevedore>=3.0.0 in /usr/local/lib/python3.10/dist-packages (from qiskit>=1.1.0->qiskit_aer) (5.4.0)\n",
            "Requirement already satisfied: typing-extensions in /usr/local/lib/python3.10/dist-packages (from qiskit>=1.1.0->qiskit_aer) (4.12.2)\n",
            "Requirement already satisfied: symengine<0.14,>=0.11 in /usr/local/lib/python3.10/dist-packages (from qiskit>=1.1.0->qiskit_aer) (0.13.0)\n",
            "Requirement already satisfied: six>=1.5 in /usr/local/lib/python3.10/dist-packages (from python-dateutil>=2.8.0->qiskit>=1.1.0->qiskit_aer) (1.17.0)\n",
            "Requirement already satisfied: pbr>=2.0.0 in /usr/local/lib/python3.10/dist-packages (from stevedore>=3.0.0->qiskit>=1.1.0->qiskit_aer) (6.1.0)\n",
            "Requirement already satisfied: mpmath<1.4,>=1.1.0 in /usr/local/lib/python3.10/dist-packages (from sympy>=1.3->qiskit>=1.1.0->qiskit_aer) (1.3.0)\n",
            "Downloading qiskit_aer-0.15.1-cp310-cp310-manylinux_2_17_x86_64.manylinux2014_x86_64.whl (12.3 MB)\n",
            "\u001b[2K   \u001b[90m━━━━━━━━━━━━━━━━━━━━━━━━━━━━━━━━━━━━━━━━\u001b[0m \u001b[32m12.3/12.3 MB\u001b[0m \u001b[31m88.8 MB/s\u001b[0m eta \u001b[36m0:00:00\u001b[0m\n",
            "\u001b[?25hInstalling collected packages: qiskit_aer\n",
            "Successfully installed qiskit_aer-0.15.1\n",
            "Collecting pylatexenc\n",
            "  Downloading pylatexenc-2.10.tar.gz (162 kB)\n",
            "\u001b[2K     \u001b[90m━━━━━━━━━━━━━━━━━━━━━━━━━━━━━━━━━━━━━━━━\u001b[0m \u001b[32m162.6/162.6 kB\u001b[0m \u001b[31m6.4 MB/s\u001b[0m eta \u001b[36m0:00:00\u001b[0m\n",
            "\u001b[?25h  Preparing metadata (setup.py) ... \u001b[?25l\u001b[?25hdone\n",
            "Building wheels for collected packages: pylatexenc\n",
            "  Building wheel for pylatexenc (setup.py) ... \u001b[?25l\u001b[?25hdone\n",
            "  Created wheel for pylatexenc: filename=pylatexenc-2.10-py3-none-any.whl size=136816 sha256=c28f08cc958ea8dc0258a3b9edd5692083c908c5a03fd9ce57f363f2f6768df1\n",
            "  Stored in directory: /root/.cache/pip/wheels/d3/31/8b/e09b0386afd80cfc556c00408c9aeea5c35c4d484a9c762fd5\n",
            "Successfully built pylatexenc\n",
            "Installing collected packages: pylatexenc\n",
            "Successfully installed pylatexenc-2.10\n"
          ]
        }
      ]
    },
    {
      "cell_type": "code",
      "execution_count": 3,
      "metadata": {
        "id": "q7xnv1y2REmH"
      },
      "outputs": [],
      "source": [
        "import numpy as np\n",
        "import pandas as pd\n",
        "from qiskit import QuantumCircuit,transpile, transpile\n",
        "from qiskit_aer import Aer\n",
        "from qiskit.circuit.library import QFT\n",
        "from qiskit.quantum_info import Statevector\n",
        "from qiskit.visualization import plot_histogram\n",
        "import matplotlib.pyplot as plt"
      ]
    },
    {
      "cell_type": "code",
      "source": [
        "from google.colab import drive\n",
        "drive.mount('/content/drive')"
      ],
      "metadata": {
        "colab": {
          "base_uri": "https://localhost:8080/"
        },
        "id": "glwRds47ZBL0",
        "outputId": "7267c5f3-bc45-46e0-df16-fe7edd5ddbee"
      },
      "execution_count": 4,
      "outputs": [
        {
          "output_type": "stream",
          "name": "stdout",
          "text": [
            "Drive already mounted at /content/drive; to attempt to forcibly remount, call drive.mount(\"/content/drive\", force_remount=True).\n"
          ]
        }
      ]
    },
    {
      "cell_type": "markdown",
      "source": [
        "Load Data"
      ],
      "metadata": {
        "id": "z25J4_0EZYHH"
      }
    },
    {
      "cell_type": "code",
      "source": [
        "# Load the synthetic educational dataset\n",
        "data = pd.read_csv(\"/content/drive/MyDrive/projects/synthetic_educational_data.csv\")"
      ],
      "metadata": {
        "id": "Y5ULx7LHZWav"
      },
      "execution_count": 6,
      "outputs": []
    },
    {
      "cell_type": "markdown",
      "source": [
        "Feature Selection"
      ],
      "metadata": {
        "id": "aKs5m8hFaiY2"
      }
    },
    {
      "cell_type": "code",
      "source": [
        "# Select numerical features for PCA\n",
        "data_numeric = data.drop(columns=[col for col in data.columns if col.startswith('Style')])\n",
        "data_matrix = data_numeric.to_numpy()"
      ],
      "metadata": {
        "id": "esNMBEgNagDs"
      },
      "execution_count": 7,
      "outputs": []
    },
    {
      "cell_type": "markdown",
      "source": [
        "Calculate the Covariance Matrix"
      ],
      "metadata": {
        "id": "C2SZvtNYbEbj"
      }
    },
    {
      "cell_type": "code",
      "source": [
        "cov_matrix = np.cov(data_matrix.T)\n",
        "print(\"Covariance Matrix:\")\n",
        "print(cov_matrix)"
      ],
      "metadata": {
        "colab": {
          "base_uri": "https://localhost:8080/"
        },
        "id": "swkXUl49bP8p",
        "outputId": "2649443f-6767-4ffe-e466-d7f1f6f9491c"
      },
      "execution_count": 8,
      "outputs": [
        {
          "output_type": "stream",
          "name": "stdout",
          "text": [
            "Covariance Matrix:\n",
            "[[ 2.24967241e+02 -2.64747275e-01 -1.09748862e+01  6.58386511e-02\n",
            "   2.56883396e-01]\n",
            " [-2.64747275e-01  3.11979495e-02 -1.22343728e-01  1.56826151e-03\n",
            "  -1.60150731e-03]\n",
            " [-1.09748862e+01 -1.22343728e-01  2.71038492e+02 -2.68028646e-01\n",
            "   7.69435932e-02]\n",
            " [ 6.58386511e-02  1.56826151e-03 -2.68028646e-01  2.04584463e-02\n",
            "  -3.32094433e-03]\n",
            " [ 2.56883396e-01 -1.60150731e-03  7.69435932e-02 -3.32094433e-03\n",
            "   4.44871211e-02]]\n"
          ]
        }
      ]
    },
    {
      "cell_type": "markdown",
      "source": [
        "Normalize Covariance Matrix"
      ],
      "metadata": {
        "id": "gCxcreKJbUmw"
      }
    },
    {
      "cell_type": "code",
      "source": [
        "norm_factor = np.linalg.norm(cov_matrix)\n",
        "normalized_matrix = cov_matrix / norm_factor\n",
        "print(\"Normalized Covariance Matrix:\")\n",
        "print(normalized_matrix)"
      ],
      "metadata": {
        "colab": {
          "base_uri": "https://localhost:8080/"
        },
        "id": "ODZzAfyfbZAJ",
        "outputId": "5cde8011-d32a-4d91-8241-87667ddf0bc2"
      },
      "execution_count": 9,
      "outputs": [
        {
          "output_type": "stream",
          "name": "stdout",
          "text": [
            "Normalized Covariance Matrix:\n",
            "[[ 6.38057994e-01 -7.50883170e-04 -3.11272602e-02  1.86733310e-04\n",
            "   7.28579428e-04]\n",
            " [-7.50883170e-04  8.84844430e-05 -3.46994492e-04  4.44794446e-06\n",
            "  -4.54223707e-06]\n",
            " [-3.11272602e-02 -3.46994492e-04  7.68726483e-01 -7.60189880e-04\n",
            "   2.18229438e-04]\n",
            " [ 1.86733310e-04  4.44794446e-06 -7.60189880e-04  5.80247824e-05\n",
            "  -9.41894945e-06]\n",
            " [ 7.28579428e-04 -4.54223707e-06  2.18229438e-04 -9.41894945e-06\n",
            "   1.26175540e-04]]\n"
          ]
        }
      ]
    },
    {
      "cell_type": "markdown",
      "source": [
        "Prepare Quantum States Function Definition"
      ],
      "metadata": {
        "id": "7Gs3ASytbb-R"
      }
    },
    {
      "cell_type": "code",
      "source": [
        "def prepare_quantum_state(matrix):\n",
        "    flattened_matrix = matrix.flatten()\n",
        "    norm = np.linalg.norm(flattened_matrix)\n",
        "    if norm == 0:\n",
        "        raise ValueError(\"Matrix cannot be normalized; norm is zero.\")\n",
        "\n",
        "    # Normalize the state vector\n",
        "    state_vector = flattened_matrix / norm\n",
        "\n",
        "    # Ensure the state vector length is a power of 2\n",
        "    target_length = 2 ** int(np.ceil(np.log2(len(state_vector))))\n",
        "    padded_state_vector = np.zeros(target_length)\n",
        "    padded_state_vector[:len(state_vector)] = state_vector\n",
        "\n",
        "    return Statevector(padded_state_vector)"
      ],
      "metadata": {
        "id": "J-g_7K-dbfJs"
      },
      "execution_count": 10,
      "outputs": []
    },
    {
      "cell_type": "code",
      "source": [
        "quantum_state = prepare_quantum_state(normalized_matrix)\n",
        "print(\"Quantum State Vector:\")\n",
        "print(quantum_state.data)"
      ],
      "metadata": {
        "colab": {
          "base_uri": "https://localhost:8080/"
        },
        "id": "X9X2U0SFevkx",
        "outputId": "b5d54453-723e-45b1-950f-7122f13a5f59"
      },
      "execution_count": 11,
      "outputs": [
        {
          "output_type": "stream",
          "name": "stdout",
          "text": [
            "Quantum State Vector:\n",
            "[ 6.38057994e-01+0.j -7.50883170e-04+0.j -3.11272602e-02+0.j\n",
            "  1.86733310e-04+0.j  7.28579428e-04+0.j -7.50883170e-04+0.j\n",
            "  8.84844430e-05+0.j -3.46994492e-04+0.j  4.44794446e-06+0.j\n",
            " -4.54223707e-06+0.j -3.11272602e-02+0.j -3.46994492e-04+0.j\n",
            "  7.68726483e-01+0.j -7.60189880e-04+0.j  2.18229438e-04+0.j\n",
            "  1.86733310e-04+0.j  4.44794446e-06+0.j -7.60189880e-04+0.j\n",
            "  5.80247824e-05+0.j -9.41894945e-06+0.j  7.28579428e-04+0.j\n",
            " -4.54223707e-06+0.j  2.18229438e-04+0.j -9.41894945e-06+0.j\n",
            "  1.26175540e-04+0.j  0.00000000e+00+0.j  0.00000000e+00+0.j\n",
            "  0.00000000e+00+0.j  0.00000000e+00+0.j  0.00000000e+00+0.j\n",
            "  0.00000000e+00+0.j  0.00000000e+00+0.j]\n"
          ]
        }
      ]
    },
    {
      "cell_type": "markdown",
      "source": [
        "Quantum PCA Circuit Setup"
      ],
      "metadata": {
        "id": "zTty7e2gew9g"
      }
    },
    {
      "cell_type": "code",
      "source": [
        "num_qubits = int(np.ceil(np.log2(len(quantum_state.data))))\n",
        "num_qubits"
      ],
      "metadata": {
        "colab": {
          "base_uri": "https://localhost:8080/"
        },
        "id": "OmtBwdE7e0HQ",
        "outputId": "0f7cb597-8da2-442c-b841-e613b2dfa7f2"
      },
      "execution_count": 12,
      "outputs": [
        {
          "output_type": "execute_result",
          "data": {
            "text/plain": [
              "5"
            ]
          },
          "metadata": {},
          "execution_count": 12
        }
      ]
    },
    {
      "cell_type": "markdown",
      "source": [
        "**Quantum Phase Estimation - Circuit Creation**\n",
        "*   Initialize Eignestate\n",
        "*   Apply Hadmard\n",
        "*   Apply controlled-unitary gate\n",
        "*   Applying Quantum Fourier Transform\n",
        "*   Eigenvalue Transformation\n",
        "\n"
      ],
      "metadata": {
        "id": "x7Bxd3B-e8Xm"
      }
    },
    {
      "cell_type": "code",
      "source": [
        "def create_qpca_circuit(num_qubits, state_vector):\n",
        "    qc = QuantumCircuit(num_qubits + 1, num_qubits)  # +1 qubit for the eigenstate\n",
        "\n",
        "    # Initialize the eigenstate on the first qubit\n",
        "    if len(state_vector) != 2 ** num_qubits:\n",
        "        raise ValueError(\"State vector length does not match number of qubits\")\n",
        "    qc.initialize(state_vector, list(range(1, num_qubits + 1)))\n",
        "\n",
        "    # Apply Hadamard to the control qubit\n",
        "    qc.h(0)\n",
        "\n",
        "    # Apply controlled-unitary gates (as placeholder)\n",
        "    for i in range(num_qubits):\n",
        "        qc.cp(2 * np.pi / (2 ** (i + 1)), 0, i + 1)\n",
        "\n",
        "    # Apply Quantum Fourier Transform (Inverse)\n",
        "    qft_dagger = QFT(num_qubits).inverse()\n",
        "    qc.compose(qft_dagger, qubits=list(range(num_qubits)), inplace=True)\n",
        "\n",
        "    # Measure the eigenvalues\n",
        "    qc.measure(range(num_qubits), range(num_qubits))\n",
        "\n",
        "    return qc"
      ],
      "metadata": {
        "id": "7i0DM2qpe6CS"
      },
      "execution_count": 13,
      "outputs": []
    },
    {
      "cell_type": "code",
      "source": [
        "qpca_circuit = create_qpca_circuit(num_qubits, quantum_state.data)"
      ],
      "metadata": {
        "id": "A_ZFydtLf_6I"
      },
      "execution_count": 14,
      "outputs": []
    },
    {
      "cell_type": "markdown",
      "source": [
        "Printing the Circuit"
      ],
      "metadata": {
        "id": "QG6kzma3QYTI"
      }
    },
    {
      "cell_type": "code",
      "source": [
        "print(\"Quantum PCA Circuit:\")\n",
        "print(qpca_circuit)\n",
        "qpca_circuit.draw(output='mpl')\n",
        "plt.show()"
      ],
      "metadata": {
        "colab": {
          "base_uri": "https://localhost:8080/"
        },
        "id": "mAcI1dmdgpWA",
        "outputId": "0f925e0a-1cfa-4b6a-fcdc-b2299939854d"
      },
      "execution_count": 15,
      "outputs": [
        {
          "output_type": "stream",
          "name": "stdout",
          "text": [
            "Quantum PCA Circuit:\n",
            "     »\n",
            "q_0: »\n",
            "     »\n",
            "q_1: »\n",
            "     »\n",
            "q_2: »\n",
            "     »\n",
            "q_3: »\n",
            "     »\n",
            "q_4: »\n",
            "     »\n",
            "q_5: »\n",
            "     »\n",
            "c: 5/»\n",
            "     »\n",
            "«                                                                                                                                                            ┌───┐                                                                                                                                                       »\n",
            "«q_0: ───────────────────────────────────────────────────────────────────────────────────────────────────────────────────────────────────────────────────────┤ H ├───────────────────────────────────────────────────────────────────────────────────────────────────────────────────────────────────────────────────────»\n",
            "«     ┌──────────────────────────────────────────────────────────────────────────────────────────────────────────────────────────────────────────────────────┴───┴──────────────────────────────────────────────────────────────────────────────────────────────────────────────────────────────────────────────────────┐»\n",
            "«q_1: ┤0                                                                                                                                                                                                                                                                                                                ├»\n",
            "«     │                                                                                                                                                                                                                                                                                                                 │»\n",
            "«q_2: ┤1                                                                                                                                                                                                                                                                                                                ├»\n",
            "«     │                                                                                                                                                                                                                                                                                                                 │»\n",
            "«q_3: ┤2 Initialize(0.63806,-0.00075088,-0.031127,0.00018673,0.00072858,-0.00075088,8.8484e-05,-0.00034699,4.4479e-06,-4.5422e-06,-0.031127,-0.00034699,0.76873,-0.00076019,0.00021823,0.00018673,4.4479e-06,-0.00076019,5.8025e-05,-9.4189e-06,0.00072858,-4.5422e-06,0.00021823,-9.4189e-06,0.00012618,0,0,0,0,0,0,0) ├»\n",
            "«     │                                                                                                                                                                                                                                                                                                                 │»\n",
            "«q_4: ┤3                                                                                                                                                                                                                                                                                                                ├»\n",
            "«     │                                                                                                                                                                                                                                                                                                                 │»\n",
            "«q_5: ┤4                                                                                                                                                                                                                                                                                                                ├»\n",
            "«     └─────────────────────────────────────────────────────────────────────────────────────────────────────────────────────────────────────────────────────────────────────────────────────────────────────────────────────────────────────────────────────────────────────────────────────────────────────────────────┘»\n",
            "«c: 5/═══════════════════════════════════════════════════════════════════════════════════════════════════════════════════════════════════════════════════════════════════════════════════════════════════════════════════════════════════════════════════════════════════════════════════════════════════════════════════»\n",
            "«                                                                                                                                                                                                                                                                                                                        »\n",
            "«                                                 ┌───────┐┌─┐            \n",
            "«q_0: ─■──────■────────■────────■────────■────────┤0      ├┤M├────────────\n",
            "«      │P(π)  │        │        │        │        │       │└╥┘┌─┐         \n",
            "«q_1: ─■──────┼────────┼────────┼────────┼────────┤1      ├─╫─┤M├─────────\n",
            "«             │P(π/2)  │        │        │        │       │ ║ └╥┘┌─┐      \n",
            "«q_2: ────────■────────┼────────┼────────┼────────┤2 IQFT ├─╫──╫─┤M├──────\n",
            "«                      │P(π/4)  │        │        │       │ ║  ║ └╥┘┌─┐   \n",
            "«q_3: ─────────────────■────────┼────────┼────────┤3      ├─╫──╫──╫─┤M├───\n",
            "«                               │P(π/8)  │        │       │ ║  ║  ║ └╥┘┌─┐\n",
            "«q_4: ──────────────────────────■────────┼────────┤4      ├─╫──╫──╫──╫─┤M├\n",
            "«                                        │P(π/16) └───────┘ ║  ║  ║  ║ └╥┘\n",
            "«q_5: ───────────────────────────────────■──────────────────╫──╫──╫──╫──╫─\n",
            "«                                                           ║  ║  ║  ║  ║ \n",
            "«c: 5/══════════════════════════════════════════════════════╩══╩══╩══╩══╩═\n",
            "«                                                           0  1  2  3  4 \n"
          ]
        }
      ]
    },
    {
      "cell_type": "markdown",
      "source": [
        "## Circuit Execution"
      ],
      "metadata": {
        "id": "h9lZz9EAQpI0"
      }
    }
  ]
}