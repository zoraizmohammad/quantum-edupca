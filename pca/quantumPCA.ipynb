{
  "nbformat": 4,
  "nbformat_minor": 0,
  "metadata": {
    "colab": {
      "provenance": [],
      "mount_file_id": "1IXpMYMBHTEQxL-yo8JgJM5eCzoEQURd5",
      "authorship_tag": "ABX9TyOm4lcenbETzoC6AdG5zTJi",
      "include_colab_link": true
    },
    "kernelspec": {
      "name": "python3",
      "display_name": "Python 3"
    },
    "language_info": {
      "name": "python"
    }
  },
  "cells": [
    {
      "cell_type": "markdown",
      "metadata": {
        "id": "view-in-github",
        "colab_type": "text"
      },
      "source": [
        "<a href=\"https://colab.research.google.com/github/zoraizmohammad/quantum-edupca/blob/main/pca/quantumPCA.ipynb\" target=\"_parent\"><img src=\"https://colab.research.google.com/assets/colab-badge.svg\" alt=\"Open In Colab\"/></a>"
      ]
    },
    {
      "cell_type": "markdown",
      "source": [
        "## **Quantum PCA**"
      ],
      "metadata": {
        "id": "M2zAKiH_Swm5"
      }
    },
    {
      "cell_type": "code",
      "execution_count": null,
      "metadata": {
        "id": "q7xnv1y2REmH"
      },
      "outputs": [],
      "source": [
        "import numpy as np\n",
        "import pandas as pd\n",
        "from qiskit import QuantumCircuit,transpile, transpile\n",
        "from qiskit_aer import Aer\n",
        "from qiskit.circuit.library import QFT\n",
        "from qiskit.quantum_info import Statevector\n",
        "from qiskit.visualization import plot_histogram\n",
        "import matplotlib.pyplot as plt"
      ]
    },
    {
      "cell_type": "markdown",
      "source": [
        "**Necessary Installs:** qiskit, qiskit_aer"
      ],
      "metadata": {
        "id": "KWf4SzPrRWIo"
      }
    },
    {
      "cell_type": "code",
      "source": [
        "!pip install qiskit\n",
        "!pip install qiskit_aer"
      ],
      "metadata": {
        "colab": {
          "base_uri": "https://localhost:8080/"
        },
        "id": "7sTkyzKNRP-c",
        "outputId": "8889eaa1-3b21-468d-8dd3-d685021703fa"
      },
      "execution_count": null,
      "outputs": [
        {
          "output_type": "stream",
          "name": "stdout",
          "text": [
            "Requirement already satisfied: qiskit in /usr/local/lib/python3.10/dist-packages (1.3.1)\n",
            "Requirement already satisfied: rustworkx>=0.15.0 in /usr/local/lib/python3.10/dist-packages (from qiskit) (0.15.1)\n",
            "Requirement already satisfied: numpy<3,>=1.17 in /usr/local/lib/python3.10/dist-packages (from qiskit) (1.26.4)\n",
            "Requirement already satisfied: scipy>=1.5 in /usr/local/lib/python3.10/dist-packages (from qiskit) (1.13.1)\n",
            "Requirement already satisfied: sympy>=1.3 in /usr/local/lib/python3.10/dist-packages (from qiskit) (1.13.1)\n",
            "Requirement already satisfied: dill>=0.3 in /usr/local/lib/python3.10/dist-packages (from qiskit) (0.3.9)\n",
            "Requirement already satisfied: python-dateutil>=2.8.0 in /usr/local/lib/python3.10/dist-packages (from qiskit) (2.8.2)\n",
            "Requirement already satisfied: stevedore>=3.0.0 in /usr/local/lib/python3.10/dist-packages (from qiskit) (5.4.0)\n",
            "Requirement already satisfied: typing-extensions in /usr/local/lib/python3.10/dist-packages (from qiskit) (4.12.2)\n",
            "Requirement already satisfied: symengine<0.14,>=0.11 in /usr/local/lib/python3.10/dist-packages (from qiskit) (0.13.0)\n",
            "Requirement already satisfied: six>=1.5 in /usr/local/lib/python3.10/dist-packages (from python-dateutil>=2.8.0->qiskit) (1.17.0)\n",
            "Requirement already satisfied: pbr>=2.0.0 in /usr/local/lib/python3.10/dist-packages (from stevedore>=3.0.0->qiskit) (6.1.0)\n",
            "Requirement already satisfied: mpmath<1.4,>=1.1.0 in /usr/local/lib/python3.10/dist-packages (from sympy>=1.3->qiskit) (1.3.0)\n",
            "Collecting qiskit_aer\n",
            "  Downloading qiskit_aer-0.15.1-cp310-cp310-manylinux_2_17_x86_64.manylinux2014_x86_64.whl.metadata (8.0 kB)\n",
            "Requirement already satisfied: qiskit>=1.1.0 in /usr/local/lib/python3.10/dist-packages (from qiskit_aer) (1.3.1)\n",
            "Requirement already satisfied: numpy>=1.16.3 in /usr/local/lib/python3.10/dist-packages (from qiskit_aer) (1.26.4)\n",
            "Requirement already satisfied: scipy>=1.0 in /usr/local/lib/python3.10/dist-packages (from qiskit_aer) (1.13.1)\n",
            "Requirement already satisfied: psutil>=5 in /usr/local/lib/python3.10/dist-packages (from qiskit_aer) (5.9.5)\n",
            "Requirement already satisfied: rustworkx>=0.15.0 in /usr/local/lib/python3.10/dist-packages (from qiskit>=1.1.0->qiskit_aer) (0.15.1)\n",
            "Requirement already satisfied: sympy>=1.3 in /usr/local/lib/python3.10/dist-packages (from qiskit>=1.1.0->qiskit_aer) (1.13.1)\n",
            "Requirement already satisfied: dill>=0.3 in /usr/local/lib/python3.10/dist-packages (from qiskit>=1.1.0->qiskit_aer) (0.3.9)\n",
            "Requirement already satisfied: python-dateutil>=2.8.0 in /usr/local/lib/python3.10/dist-packages (from qiskit>=1.1.0->qiskit_aer) (2.8.2)\n",
            "Requirement already satisfied: stevedore>=3.0.0 in /usr/local/lib/python3.10/dist-packages (from qiskit>=1.1.0->qiskit_aer) (5.4.0)\n",
            "Requirement already satisfied: typing-extensions in /usr/local/lib/python3.10/dist-packages (from qiskit>=1.1.0->qiskit_aer) (4.12.2)\n",
            "Requirement already satisfied: symengine<0.14,>=0.11 in /usr/local/lib/python3.10/dist-packages (from qiskit>=1.1.0->qiskit_aer) (0.13.0)\n",
            "Requirement already satisfied: six>=1.5 in /usr/local/lib/python3.10/dist-packages (from python-dateutil>=2.8.0->qiskit>=1.1.0->qiskit_aer) (1.17.0)\n",
            "Requirement already satisfied: pbr>=2.0.0 in /usr/local/lib/python3.10/dist-packages (from stevedore>=3.0.0->qiskit>=1.1.0->qiskit_aer) (6.1.0)\n",
            "Requirement already satisfied: mpmath<1.4,>=1.1.0 in /usr/local/lib/python3.10/dist-packages (from sympy>=1.3->qiskit>=1.1.0->qiskit_aer) (1.3.0)\n",
            "Downloading qiskit_aer-0.15.1-cp310-cp310-manylinux_2_17_x86_64.manylinux2014_x86_64.whl (12.3 MB)\n",
            "\u001b[2K   \u001b[90m━━━━━━━━━━━━━━━━━━━━━━━━━━━━━━━━━━━━━━━━\u001b[0m \u001b[32m12.3/12.3 MB\u001b[0m \u001b[31m82.1 MB/s\u001b[0m eta \u001b[36m0:00:00\u001b[0m\n",
            "\u001b[?25hInstalling collected packages: qiskit_aer\n",
            "Successfully installed qiskit_aer-0.15.1\n"
          ]
        }
      ]
    },
    {
      "cell_type": "code",
      "source": [
        "from google.colab import drive\n",
        "drive.mount('/content/drive')"
      ],
      "metadata": {
        "colab": {
          "base_uri": "https://localhost:8080/"
        },
        "id": "glwRds47ZBL0",
        "outputId": "4af3a861-8c7f-4bf6-8f2a-25da3e0630b8"
      },
      "execution_count": null,
      "outputs": [
        {
          "output_type": "stream",
          "name": "stdout",
          "text": [
            "Drive already mounted at /content/drive; to attempt to forcibly remount, call drive.mount(\"/content/drive\", force_remount=True).\n"
          ]
        }
      ]
    },
    {
      "cell_type": "markdown",
      "source": [
        "Load Data"
      ],
      "metadata": {
        "id": "z25J4_0EZYHH"
      }
    },
    {
      "cell_type": "code",
      "source": [
        "# Load the synthetic educational dataset\n",
        "data = pd.read_csv(\"/content/drive/MyDrive/projects/synthetic_educational_data.csv\")"
      ],
      "metadata": {
        "id": "Y5ULx7LHZWav"
      },
      "execution_count": 18,
      "outputs": []
    },
    {
      "cell_type": "markdown",
      "source": [
        "Feature Selection"
      ],
      "metadata": {
        "id": "aKs5m8hFaiY2"
      }
    },
    {
      "cell_type": "code",
      "source": [
        "# Select numerical features for PCA\n",
        "data_numeric = data.drop(columns=[col for col in data.columns if col.startswith('Style')])\n",
        "data_matrix = data_numeric.to_numpy()"
      ],
      "metadata": {
        "id": "esNMBEgNagDs"
      },
      "execution_count": 20,
      "outputs": []
    },
    {
      "cell_type": "markdown",
      "source": [
        "Calculate the Covariance Matrix"
      ],
      "metadata": {
        "id": "C2SZvtNYbEbj"
      }
    },
    {
      "cell_type": "code",
      "source": [
        "cov_matrix = np.cov(data_matrix.T)\n",
        "print(\"Covariance Matrix:\")\n",
        "print(cov_matrix)"
      ],
      "metadata": {
        "colab": {
          "base_uri": "https://localhost:8080/"
        },
        "id": "swkXUl49bP8p",
        "outputId": "dcd8a80e-0add-4ec4-ce82-d54eee2748a3"
      },
      "execution_count": 21,
      "outputs": [
        {
          "output_type": "stream",
          "name": "stdout",
          "text": [
            "Covariance Matrix:\n",
            "[[ 2.24967241e+02 -2.64747275e-01 -1.09748862e+01  6.58386511e-02\n",
            "   2.56883396e-01]\n",
            " [-2.64747275e-01  3.11979495e-02 -1.22343728e-01  1.56826151e-03\n",
            "  -1.60150731e-03]\n",
            " [-1.09748862e+01 -1.22343728e-01  2.71038492e+02 -2.68028646e-01\n",
            "   7.69435932e-02]\n",
            " [ 6.58386511e-02  1.56826151e-03 -2.68028646e-01  2.04584463e-02\n",
            "  -3.32094433e-03]\n",
            " [ 2.56883396e-01 -1.60150731e-03  7.69435932e-02 -3.32094433e-03\n",
            "   4.44871211e-02]]\n"
          ]
        }
      ]
    },
    {
      "cell_type": "markdown",
      "source": [
        "Normalize Covariance Matrix"
      ],
      "metadata": {
        "id": "gCxcreKJbUmw"
      }
    },
    {
      "cell_type": "code",
      "source": [
        "norm_factor = np.linalg.norm(cov_matrix)\n",
        "normalized_matrix = cov_matrix / norm_factor\n",
        "print(\"Normalized Covariance Matrix:\")\n",
        "print(normalized_matrix)"
      ],
      "metadata": {
        "colab": {
          "base_uri": "https://localhost:8080/"
        },
        "id": "ODZzAfyfbZAJ",
        "outputId": "5fc6b301-1244-4c80-89b7-ab13e7bceca1"
      },
      "execution_count": 22,
      "outputs": [
        {
          "output_type": "stream",
          "name": "stdout",
          "text": [
            "Normalized Covariance Matrix:\n",
            "[[ 6.38057994e-01 -7.50883170e-04 -3.11272602e-02  1.86733310e-04\n",
            "   7.28579428e-04]\n",
            " [-7.50883170e-04  8.84844430e-05 -3.46994492e-04  4.44794446e-06\n",
            "  -4.54223707e-06]\n",
            " [-3.11272602e-02 -3.46994492e-04  7.68726483e-01 -7.60189880e-04\n",
            "   2.18229438e-04]\n",
            " [ 1.86733310e-04  4.44794446e-06 -7.60189880e-04  5.80247824e-05\n",
            "  -9.41894945e-06]\n",
            " [ 7.28579428e-04 -4.54223707e-06  2.18229438e-04 -9.41894945e-06\n",
            "   1.26175540e-04]]\n"
          ]
        }
      ]
    },
    {
      "cell_type": "markdown",
      "source": [
        "Prepare Quantum States Function Definition"
      ],
      "metadata": {
        "id": "7Gs3ASytbb-R"
      }
    },
    {
      "cell_type": "code",
      "source": [
        "def prepare_quantum_state(matrix):\n",
        "    flattened_matrix = matrix.flatten()\n",
        "    norm = np.linalg.norm(flattened_matrix)\n",
        "    if norm == 0:\n",
        "        raise ValueError(\"Matrix cannot be normalized; norm is zero.\")\n",
        "\n",
        "    # Normalize the state vector\n",
        "    state_vector = flattened_matrix / norm\n",
        "\n",
        "    # Ensure the state vector length is a power of 2\n",
        "    target_length = 2 ** int(np.ceil(np.log2(len(state_vector))))\n",
        "    padded_state_vector = np.zeros(target_length)\n",
        "    padded_state_vector[:len(state_vector)] = state_vector\n",
        "\n",
        "    return Statevector(padded_state_vector)"
      ],
      "metadata": {
        "id": "J-g_7K-dbfJs"
      },
      "execution_count": 23,
      "outputs": []
    },
    {
      "cell_type": "code",
      "source": [
        "quantum_state = prepare_quantum_state(normalized_matrix)\n",
        "print(\"Quantum State Vector:\")\n",
        "print(quantum_state.data)"
      ],
      "metadata": {
        "colab": {
          "base_uri": "https://localhost:8080/"
        },
        "id": "X9X2U0SFevkx",
        "outputId": "6ce645d7-377c-40f5-e8a6-34aedc9907ae"
      },
      "execution_count": 24,
      "outputs": [
        {
          "output_type": "stream",
          "name": "stdout",
          "text": [
            "Quantum State Vector:\n",
            "[ 6.38057994e-01+0.j -7.50883170e-04+0.j -3.11272602e-02+0.j\n",
            "  1.86733310e-04+0.j  7.28579428e-04+0.j -7.50883170e-04+0.j\n",
            "  8.84844430e-05+0.j -3.46994492e-04+0.j  4.44794446e-06+0.j\n",
            " -4.54223707e-06+0.j -3.11272602e-02+0.j -3.46994492e-04+0.j\n",
            "  7.68726483e-01+0.j -7.60189880e-04+0.j  2.18229438e-04+0.j\n",
            "  1.86733310e-04+0.j  4.44794446e-06+0.j -7.60189880e-04+0.j\n",
            "  5.80247824e-05+0.j -9.41894945e-06+0.j  7.28579428e-04+0.j\n",
            " -4.54223707e-06+0.j  2.18229438e-04+0.j -9.41894945e-06+0.j\n",
            "  1.26175540e-04+0.j]\n"
          ]
        }
      ]
    },
    {
      "cell_type": "markdown",
      "source": [
        "Quantum PCA Circuit Setup"
      ],
      "metadata": {
        "id": "zTty7e2gew9g"
      }
    },
    {
      "cell_type": "code",
      "source": [
        "num_qubits = int(np.ceil(np.log2(len(quantum_state.data))))\n",
        "num_qubits"
      ],
      "metadata": {
        "colab": {
          "base_uri": "https://localhost:8080/"
        },
        "id": "OmtBwdE7e0HQ",
        "outputId": "8b98283c-f414-4687-825a-f5817970718e"
      },
      "execution_count": 26,
      "outputs": [
        {
          "output_type": "execute_result",
          "data": {
            "text/plain": [
              "5"
            ]
          },
          "metadata": {},
          "execution_count": 26
        }
      ]
    },
    {
      "cell_type": "markdown",
      "source": [
        "**Quantum Phase Estimation - Circuit Creation**\n",
        "*   Initialize Eignestate\n",
        "*   Apply Hadmard\n",
        "*   Apply controlled-unitary gate\n",
        "*   Applying Quantum Fourier Transform\n",
        "*   Eigenvalue Transformation\n",
        "\n"
      ],
      "metadata": {
        "id": "x7Bxd3B-e8Xm"
      }
    },
    {
      "cell_type": "code",
      "source": [
        "def create_qpca_circuit(num_qubits, state_vector):\n",
        "    qc = QuantumCircuit(num_qubits + 1, num_qubits)  # +1 qubit for the eigenstate\n",
        "\n",
        "    # Initialize the eigenstate on the first qubit\n",
        "    if len(state_vector) != 2 ** num_qubits:\n",
        "        raise ValueError(\"State vector length does not match number of qubits\")\n",
        "    qc.initialize(state_vector, list(range(1, num_qubits + 1)))\n",
        "\n",
        "    # Apply Hadamard to the control qubit\n",
        "    qc.h(0)\n",
        "\n",
        "    # Apply controlled-unitary gates (as placeholder)\n",
        "    for i in range(num_qubits):\n",
        "        qc.cp(2 * np.pi / (2 ** (i + 1)), 0, i + 1)\n",
        "\n",
        "    # Apply Quantum Fourier Transform (Inverse)\n",
        "    qft_dagger = QFT(num_qubits).inverse()\n",
        "    qc.compose(qft_dagger, qubits=list(range(num_qubits)), inplace=True)\n",
        "\n",
        "    # Measure the eigenvalues\n",
        "    qc.measure(range(num_qubits), range(num_qubits))\n",
        "\n",
        "    return qc"
      ],
      "metadata": {
        "id": "7i0DM2qpe6CS"
      },
      "execution_count": 28,
      "outputs": []
    },
    {
      "cell_type": "code",
      "source": [
        "qpca_circuit = create_qpca_circuit(num_qubits, quantum_state.data)"
      ],
      "metadata": {
        "colab": {
          "base_uri": "https://localhost:8080/",
          "height": 263
        },
        "id": "A_ZFydtLf_6I",
        "outputId": "800bd0ee-bf87-4da5-eb25-482749455c04"
      },
      "execution_count": 30,
      "outputs": [
        {
          "output_type": "error",
          "ename": "ValueError",
          "evalue": "State vector length does not match number of qubits",
          "traceback": [
            "\u001b[0;31m---------------------------------------------------------------------------\u001b[0m",
            "\u001b[0;31mValueError\u001b[0m                                Traceback (most recent call last)",
            "\u001b[0;32m<ipython-input-30-eb1744297cd6>\u001b[0m in \u001b[0;36m<cell line: 1>\u001b[0;34m()\u001b[0m\n\u001b[0;32m----> 1\u001b[0;31m \u001b[0mqpca_circuit\u001b[0m \u001b[0;34m=\u001b[0m \u001b[0mcreate_qpca_circuit\u001b[0m\u001b[0;34m(\u001b[0m\u001b[0mnum_qubits\u001b[0m\u001b[0;34m,\u001b[0m \u001b[0mquantum_state\u001b[0m\u001b[0;34m.\u001b[0m\u001b[0mdata\u001b[0m\u001b[0;34m)\u001b[0m\u001b[0;34m\u001b[0m\u001b[0;34m\u001b[0m\u001b[0m\n\u001b[0m",
            "\u001b[0;32m<ipython-input-28-4cb7eb93168d>\u001b[0m in \u001b[0;36mcreate_qpca_circuit\u001b[0;34m(num_qubits, state_vector)\u001b[0m\n\u001b[1;32m      4\u001b[0m     \u001b[0;31m# Initialize the eigenstate on the first qubit\u001b[0m\u001b[0;34m\u001b[0m\u001b[0;34m\u001b[0m\u001b[0m\n\u001b[1;32m      5\u001b[0m     \u001b[0;32mif\u001b[0m \u001b[0mlen\u001b[0m\u001b[0;34m(\u001b[0m\u001b[0mstate_vector\u001b[0m\u001b[0;34m)\u001b[0m \u001b[0;34m!=\u001b[0m \u001b[0;36m2\u001b[0m \u001b[0;34m**\u001b[0m \u001b[0mnum_qubits\u001b[0m\u001b[0;34m:\u001b[0m\u001b[0;34m\u001b[0m\u001b[0;34m\u001b[0m\u001b[0m\n\u001b[0;32m----> 6\u001b[0;31m         \u001b[0;32mraise\u001b[0m \u001b[0mValueError\u001b[0m\u001b[0;34m(\u001b[0m\u001b[0;34m\"State vector length does not match number of qubits\"\u001b[0m\u001b[0;34m)\u001b[0m\u001b[0;34m\u001b[0m\u001b[0;34m\u001b[0m\u001b[0m\n\u001b[0m\u001b[1;32m      7\u001b[0m     \u001b[0mqc\u001b[0m\u001b[0;34m.\u001b[0m\u001b[0minitialize\u001b[0m\u001b[0;34m(\u001b[0m\u001b[0mstate_vector\u001b[0m\u001b[0;34m,\u001b[0m \u001b[0mlist\u001b[0m\u001b[0;34m(\u001b[0m\u001b[0mrange\u001b[0m\u001b[0;34m(\u001b[0m\u001b[0;36m1\u001b[0m\u001b[0;34m,\u001b[0m \u001b[0mnum_qubits\u001b[0m \u001b[0;34m+\u001b[0m \u001b[0;36m1\u001b[0m\u001b[0;34m)\u001b[0m\u001b[0;34m)\u001b[0m\u001b[0;34m)\u001b[0m\u001b[0;34m\u001b[0m\u001b[0;34m\u001b[0m\u001b[0m\n\u001b[1;32m      8\u001b[0m \u001b[0;34m\u001b[0m\u001b[0m\n",
            "\u001b[0;31mValueError\u001b[0m: State vector length does not match number of qubits"
          ]
        }
      ]
    }
  ]
}